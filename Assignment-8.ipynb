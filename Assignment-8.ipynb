{
 "cells": [
  {
   "cell_type": "markdown",
   "id": "1918237b",
   "metadata": {},
   "source": [
    "# Assignment - 8 Full Stack Web Development using Python - While Loop"
   ]
  },
  {
   "cell_type": "markdown",
   "id": "11433fdb",
   "metadata": {},
   "source": [
    "# 1. Write a python script to print MySirG 5 times on the screen."
   ]
  },
  {
   "cell_type": "code",
   "execution_count": 1,
   "id": "c1d6878d",
   "metadata": {},
   "outputs": [
    {
     "name": "stdout",
     "output_type": "stream",
     "text": [
      "MySirG, MySirG, MySirG, MySirG, MySirG, "
     ]
    }
   ],
   "source": [
    "i=0\n",
    "while i<5:\n",
    "    print('MySirG',end=\", \")\n",
    "    i+=1"
   ]
  },
  {
   "cell_type": "markdown",
   "id": "acfddf7d",
   "metadata": {},
   "source": [
    "# 2. Write a python script to print first 10 natural numbers."
   ]
  },
  {
   "cell_type": "code",
   "execution_count": 2,
   "id": "4b1b43df",
   "metadata": {},
   "outputs": [
    {
     "name": "stdout",
     "output_type": "stream",
     "text": [
      "1,2,3,4,5,6,7,8,9,10,"
     ]
    }
   ],
   "source": [
    "i=1\n",
    "while i<=10:\n",
    "    print(i,end=\",\")\n",
    "    i+=1"
   ]
  },
  {
   "cell_type": "markdown",
   "id": "662ca718",
   "metadata": {},
   "source": [
    "# 3. Write a python script to print first 10 natural numbers in reverse order."
   ]
  },
  {
   "cell_type": "code",
   "execution_count": 3,
   "id": "ae666189",
   "metadata": {},
   "outputs": [
    {
     "name": "stdout",
     "output_type": "stream",
     "text": [
      "10 9 8 7 6 5 4 3 2 1 "
     ]
    }
   ],
   "source": [
    "i=10\n",
    "while i>0:\n",
    "    print(i,end=\" \")\n",
    "    i-=1"
   ]
  },
  {
   "cell_type": "markdown",
   "id": "085dc703",
   "metadata": {},
   "source": [
    "# 4. Write a python script to print first 10 odd natural numbers."
   ]
  },
  {
   "cell_type": "code",
   "execution_count": 4,
   "id": "6f041513",
   "metadata": {},
   "outputs": [
    {
     "name": "stdout",
     "output_type": "stream",
     "text": [
      "1 3 5 7 9 11 13 15 17 19 "
     ]
    }
   ],
   "source": [
    "i=0\n",
    "while i<20:\n",
    "    if i%2!=0:\n",
    "        print(i,end=' ')\n",
    "    i+=1"
   ]
  },
  {
   "cell_type": "markdown",
   "id": "d598fe2b",
   "metadata": {},
   "source": [
    "# 5. Write a python script to print first 10 odd natural numbers in reverse order."
   ]
  },
  {
   "cell_type": "code",
   "execution_count": 5,
   "id": "c7fe331e",
   "metadata": {},
   "outputs": [
    {
     "name": "stdout",
     "output_type": "stream",
     "text": [
      "19 17 15 13 11 9 7 5 3 1 "
     ]
    }
   ],
   "source": [
    "i=20\n",
    "while i>0:\n",
    "    if i%2!=0:\n",
    "        print(i,end=' ')\n",
    "    i-=1"
   ]
  },
  {
   "cell_type": "markdown",
   "id": "b7fab4ea",
   "metadata": {},
   "source": [
    "# 6. Write a python script to print first 10 even natural numbers."
   ]
  },
  {
   "cell_type": "code",
   "execution_count": 6,
   "id": "56e25c7f",
   "metadata": {},
   "outputs": [
    {
     "name": "stdout",
     "output_type": "stream",
     "text": [
      "2 4 6 8 10 12 14 16 18 20 "
     ]
    }
   ],
   "source": [
    "i=1\n",
    "while i<=20:\n",
    "    if i%2==0:\n",
    "        print(i,end=' ')\n",
    "    i+=1"
   ]
  },
  {
   "cell_type": "markdown",
   "id": "a979751a",
   "metadata": {},
   "source": [
    "# 7. Write a python script to print first 10 even natural numbers in reverse order."
   ]
  },
  {
   "cell_type": "code",
   "execution_count": 7,
   "id": "ded0b2e2",
   "metadata": {},
   "outputs": [
    {
     "name": "stdout",
     "output_type": "stream",
     "text": [
      "20 18 16 14 12 10 8 6 4 2 "
     ]
    }
   ],
   "source": [
    "i=20\n",
    "while i>0:\n",
    "    if i%2==0:\n",
    "        print(i,end=' ')\n",
    "    i-=1"
   ]
  },
  {
   "cell_type": "markdown",
   "id": "a356ebf8",
   "metadata": {},
   "source": [
    "# 8. Write a python script to print squares of first 10 natural numbers."
   ]
  },
  {
   "cell_type": "code",
   "execution_count": 8,
   "id": "08691e40",
   "metadata": {},
   "outputs": [
    {
     "name": "stdout",
     "output_type": "stream",
     "text": [
      "1 4 9 16 25 36 49 64 81 100 "
     ]
    }
   ],
   "source": [
    "i=1\n",
    "while i<=10:\n",
    "    print(i**2,end=' ')\n",
    "    i+=1"
   ]
  },
  {
   "cell_type": "markdown",
   "id": "274dd7a1",
   "metadata": {},
   "source": [
    "# 9. Write a python script to print cubes of first 10 natural numbers."
   ]
  },
  {
   "cell_type": "code",
   "execution_count": 9,
   "id": "10701e85",
   "metadata": {},
   "outputs": [
    {
     "name": "stdout",
     "output_type": "stream",
     "text": [
      "1 8 27 64 125 216 343 512 729 1000 "
     ]
    }
   ],
   "source": [
    "i=1\n",
    "while i<=10:\n",
    "    print(i**3,end=' ')\n",
    "    i+=1"
   ]
  },
  {
   "cell_type": "markdown",
   "id": "82661727",
   "metadata": {},
   "source": [
    "# 10. Write a python script to print first 10 multiples of 5"
   ]
  },
  {
   "cell_type": "code",
   "execution_count": 10,
   "id": "f4a8a80c",
   "metadata": {},
   "outputs": [
    {
     "name": "stdout",
     "output_type": "stream",
     "text": [
      "5 10 15 20 25 30 35 40 45 50 "
     ]
    }
   ],
   "source": [
    "i=1\n",
    "while i<=10:\n",
    "    print(i*5,end=' ')\n",
    "    i+=1"
   ]
  },
  {
   "cell_type": "code",
   "execution_count": null,
   "id": "46e6652c",
   "metadata": {},
   "outputs": [],
   "source": []
  }
 ],
 "metadata": {
  "kernelspec": {
   "display_name": "Python 3 (ipykernel)",
   "language": "python",
   "name": "python3"
  },
  "language_info": {
   "codemirror_mode": {
    "name": "ipython",
    "version": 3
   },
   "file_extension": ".py",
   "mimetype": "text/x-python",
   "name": "python",
   "nbconvert_exporter": "python",
   "pygments_lexer": "ipython3",
   "version": "3.9.7"
  }
 },
 "nbformat": 4,
 "nbformat_minor": 5
}
