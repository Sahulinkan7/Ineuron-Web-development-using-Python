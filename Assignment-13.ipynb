{
 "cells": [
  {
   "cell_type": "markdown",
   "id": "9eccfb7b",
   "metadata": {},
   "source": [
    "# Assignment - 13 Full Stack Web Development using Python - List"
   ]
  },
  {
   "cell_type": "markdown",
   "id": "774e7e79",
   "metadata": {},
   "source": [
    "# 1. Write a python script to store multiple items in a single variable ( Items are “Java” ,“Python”, “SQL”, “C” ) using list "
   ]
  },
  {
   "cell_type": "code",
   "execution_count": 1,
   "id": "1470ac6e",
   "metadata": {},
   "outputs": [
    {
     "name": "stdout",
     "output_type": "stream",
     "text": [
      "['Java', 'Python', 'SQL', 'C']\n"
     ]
    }
   ],
   "source": [
    "var=[\"Java\" ,\"Python\", \"SQL\", \"C\"]\n",
    "print(var)"
   ]
  },
  {
   "cell_type": "markdown",
   "id": "9f31dbe7",
   "metadata": {},
   "source": [
    "# 2. Write a python script to get the data type of a list. "
   ]
  },
  {
   "cell_type": "code",
   "execution_count": 2,
   "id": "a6bbcb59",
   "metadata": {},
   "outputs": [
    {
     "data": {
      "text/plain": [
       "list"
      ]
     },
     "execution_count": 2,
     "metadata": {},
     "output_type": "execute_result"
    }
   ],
   "source": [
    "x=[1,2,3,4,'abc']\n",
    "type(x)"
   ]
  },
  {
   "cell_type": "markdown",
   "id": "2fefc965",
   "metadata": {},
   "source": [
    "# 3. Write a python script to get the last item of the list ( mylist = [\"Java\", \"C\", \"Python\"]) "
   ]
  },
  {
   "cell_type": "code",
   "execution_count": 3,
   "id": "a40f0a0c",
   "metadata": {},
   "outputs": [
    {
     "name": "stdout",
     "output_type": "stream",
     "text": [
      "Last item of the list is - Python\n"
     ]
    }
   ],
   "source": [
    "mylist=[\"Java\", \"C\", \"Python\"]\n",
    "print('Last item of the list is -',mylist[-1])"
   ]
  },
  {
   "cell_type": "markdown",
   "id": "e82ae65a",
   "metadata": {},
   "source": [
    "# 4. Write a python script to Change the values \"SQL\" and \"Reactnative\" with the values \"NoSQL\" and \"Flutter\" (List is thislist = [\"Java\", \"SQL\", \"C\", \"Reactnative\", \"Javascript\", \"Python\"] "
   ]
  },
  {
   "cell_type": "code",
   "execution_count": 4,
   "id": "980a6b11",
   "metadata": {},
   "outputs": [
    {
     "name": "stdout",
     "output_type": "stream",
     "text": [
      "['Java', 'NoSQL', 'C', 'Flutter', 'Javascript', 'Python']\n"
     ]
    }
   ],
   "source": [
    "thislist=[\"Java\", \"SQL\", \"C\", \"Reactnative\", \"Javascript\", \"Python\"]\n",
    "for i in range(len(thislist)):\n",
    "    if thislist[i]=='SQL':\n",
    "        thislist[i]='NoSQL'\n",
    "    if thislist[i]=='Reactnative':\n",
    "        thislist[i]='Flutter'\n",
    "print(thislist)"
   ]
  },
  {
   "cell_type": "markdown",
   "id": "4e4e5267",
   "metadata": {},
   "source": [
    "# 5. Write a python script to add an item to the end of the list (item “Python”. (mylist = [\"Java\", \"SQL\", \"C\", \"Reactnative\"] "
   ]
  },
  {
   "cell_type": "code",
   "execution_count": 5,
   "id": "03062589",
   "metadata": {},
   "outputs": [
    {
     "name": "stdout",
     "output_type": "stream",
     "text": [
      "['Java', 'SQL', 'C', 'Reactnative', 'Python']\n"
     ]
    }
   ],
   "source": [
    "mylist= [\"Java\", \"SQL\", \"C\", \"Reactnative\"]\n",
    "mylist.append('Python')\n",
    "print(mylist)"
   ]
  },
  {
   "cell_type": "markdown",
   "id": "98013b9c",
   "metadata": {},
   "source": [
    "# 6. Write a python program to append elements from another list to the current list.( firstlist = [\"Java\", \"Python\", \"SQL\"] secondlist = [\"C\", \"Cpp\", \"NoSQL\"] ) "
   ]
  },
  {
   "cell_type": "code",
   "execution_count": 6,
   "id": "ea51b92f",
   "metadata": {},
   "outputs": [
    {
     "name": "stdout",
     "output_type": "stream",
     "text": [
      "['Java', 'Python', 'SQL', 'C', 'Cpp', 'NoSQL']\n"
     ]
    }
   ],
   "source": [
    "firstlist = [\"Java\", \"Python\", \"SQL\"]\n",
    "secondlist = [\"C\", \"Cpp\", \"NoSQL\"]\n",
    "final=firstlist+secondlist\n",
    "print(final)"
   ]
  },
  {
   "cell_type": "markdown",
   "id": "2f6a404a",
   "metadata": {},
   "source": [
    "# 7. Write a python program to Print all items by referring to their index number (thislist = [\"Java\", \"SQL\", \"C\", \"Reactnative\", \"Javascript\", \"Python\"] "
   ]
  },
  {
   "cell_type": "code",
   "execution_count": 7,
   "id": "93d668a7",
   "metadata": {},
   "outputs": [
    {
     "name": "stdout",
     "output_type": "stream",
     "text": [
      "Items in the list are as below : \n",
      "Java, SQL, C, Reactnative, Javascript, Python, "
     ]
    }
   ],
   "source": [
    "thislist = [\"Java\", \"SQL\", \"C\", \"Reactnative\", \"Javascript\", \"Python\"]\n",
    "print('Items in the list are as below : ')\n",
    "for i in range(len(thislist)):\n",
    "    print(thislist[i],end=\", \")"
   ]
  },
  {
   "cell_type": "markdown",
   "id": "76639931",
   "metadata": {},
   "source": [
    "# 8. Write a python program to sort the list alphanumerically – thislist = [\"Java\", \"SQL\", \"C\", \"Reactjs\", \"Javascript\", \"Python\"] "
   ]
  },
  {
   "cell_type": "code",
   "execution_count": 8,
   "id": "58a7c652",
   "metadata": {},
   "outputs": [
    {
     "name": "stdout",
     "output_type": "stream",
     "text": [
      "['C', 'Java', 'Javascript', 'Python', 'Reactjs', 'SQL']\n"
     ]
    }
   ],
   "source": [
    "thislist = [\"Java\", \"SQL\", \"C\", \"Reactjs\", \"Javascript\", \"Python\"]\n",
    "print(sorted(thislist))"
   ]
  },
  {
   "cell_type": "markdown",
   "id": "3098b0b5",
   "metadata": {},
   "source": [
    "# 9. Write a Python script to create a list of city names taken from the user. "
   ]
  },
  {
   "cell_type": "code",
   "execution_count": 9,
   "id": "8969b601",
   "metadata": {},
   "outputs": [
    {
     "name": "stdout",
     "output_type": "stream",
     "text": [
      "Enter number of city you want to enter in the list : 5\n",
      "Enter city name : Delhi\n",
      "Enter city name : Bhubaneswar\n",
      "Enter city name : Kolkata\n",
      "Enter city name : Hyderabad\n",
      "Enter city name : Trivandrum\n",
      "['Delhi', 'Bhubaneswar', 'Kolkata', 'Hyderabad', 'Trivandrum']\n"
     ]
    }
   ],
   "source": [
    "x=int(input('Enter number of city you want to enter in the list : '))\n",
    "cities=[]\n",
    "for i in range(x):\n",
    "    cities.append(input(\"Enter city name : \"))\n",
    "\n",
    "print(cities)\n",
    "    "
   ]
  },
  {
   "cell_type": "markdown",
   "id": "cab2e30d",
   "metadata": {},
   "source": [
    "# 10. Write a Python script to create a list, where each element of the list is a digit of a given number."
   ]
  },
  {
   "cell_type": "code",
   "execution_count": 10,
   "id": "8f4f9252",
   "metadata": {},
   "outputs": [
    {
     "name": "stdout",
     "output_type": "stream",
     "text": [
      "Enter a number : 42698701\n",
      "[4, 2, 6, 9, 8, 7, 0, 1]\n"
     ]
    }
   ],
   "source": [
    "num=int(input('Enter a number : '))\n",
    "strn=str(num)\n",
    "lst=[]\n",
    "temp=num\n",
    "for i in range(len(strn)):\n",
    "    r=num%10\n",
    "    lst.append(r)\n",
    "    num=num//10\n",
    "lst=lst[::-1]\n",
    "print(lst)"
   ]
  }
 ],
 "metadata": {
  "kernelspec": {
   "display_name": "Python 3 (ipykernel)",
   "language": "python",
   "name": "python3"
  },
  "language_info": {
   "codemirror_mode": {
    "name": "ipython",
    "version": 3
   },
   "file_extension": ".py",
   "mimetype": "text/x-python",
   "name": "python",
   "nbconvert_exporter": "python",
   "pygments_lexer": "ipython3",
   "version": "3.9.7"
  }
 },
 "nbformat": 4,
 "nbformat_minor": 5
}
